{
 "cells": [
  {
   "cell_type": "markdown",
   "metadata": {},
   "source": [
    "# Programming for data analysis- assingment#"
   ]
  },
  {
   "cell_type": "markdown",
   "metadata": {},
   "source": [
    "# Numpy. random package\n",
    "\n",
    "# Content:\n",
    "\n",
    "- Explanation of the overall purpose of the numpy.random package.\n"
   ]
  },
  {
   "cell_type": "markdown",
   "metadata": {},
   "source": [
    "- Overview \n",
    "- NumPy.random package is an open-source   add-on   modules   to   Python   that   provide common mathematical  and  numerical  routines in pre-compiled,  fast  functions.   This is  growing  into highly  mature  package  that  provide  functionality  that  meets. The  NumPy. random  (Numeric  Python) package  provides  basic  routines  for  manipulating  large  arrays  and  matrices  of  numeric  data.\n"
   ]
  }
 ],
 "metadata": {
  "kernelspec": {
   "display_name": "Python 3",
   "language": "python",
   "name": "python3"
  },
  "language_info": {
   "codemirror_mode": {
    "name": "ipython",
    "version": 3
   },
   "file_extension": ".py",
   "mimetype": "text/x-python",
   "name": "python",
   "nbconvert_exporter": "python",
   "pygments_lexer": "ipython3",
   "version": "3.7.3"
  }
 },
 "nbformat": 4,
 "nbformat_minor": 2
}
