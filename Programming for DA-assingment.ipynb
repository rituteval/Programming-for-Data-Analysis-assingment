{
 "cells": [
  {
   "cell_type": "markdown",
   "metadata": {},
   "source": [
    "   #                Programming for data analysis- assignment"
   ]
  },
  {
   "cell_type": "markdown",
   "metadata": {},
   "source": [
    "Student - Rita Valciukiene- 00376585"
   ]
  },
  {
   "cell_type": "markdown",
   "metadata": {},
   "source": [
    "# Numpy. random package\n",
    "\n",
    "## Introduction\n",
    "\n",
    "The goal of this project is to investigate numpy.random package.\n",
    "\n",
    "## Content\n",
    "\n",
    "- Explanation of overall purpose of the numpy. random package.\n",
    "- 1. Explanation of numpy.random package: 4 contents: simply random data.\n",
    "- 2. What is and how it works permutations in numpy.random package.\n",
    "- 3. What does mean the distribution in that package.\n",
    "- 4. How to generate random numbers with numpy.range package.\n",
    "\n",
    "\n"
   ]
  },
  {
   "cell_type": "markdown",
   "metadata": {},
   "source": [
    "##  Tools:\n",
    "I used Python libruaries:\n",
    "Jupyter Notebook\n",
    "Matplotlib.pyplot\n",
    "Numpy.random"
   ]
  },
  {
   "cell_type": "markdown",
   "metadata": {},
   "source": [
    "## Overview\n",
    "\n",
    "  Python and Numpy.random package provide us with powerful functionalities to calculate problems from statistics and generate probability theory, and of course to manipulate big data set and a lot more. Numpy random package- an open-source   add-on   modules   to   Python   that   provide common mathematical  and  numerical  routines in pre-compiled functions. \n",
    "  \n",
    "  Numpy.random package provides a high performance for analyzing multidimencional, large arrays and matrices of numeric data, and provides tools for working with these arrays. Because Numpy. random functions operate on numbers, they are especially useful for data science, statistics, and machine learning.\n",
    "   Numpy. random has become particularly important for “machine learning” and “deep learning,” since these often involve large datasets of numeric data. When we are doing machine learning and deep learning, numeric data manipulation is a very big part of the workflow. Thats why it is very common and usefull package for data analysis. The data analysis so important and in our days usage nearly everywhere: in health care (medical facilities face the continual challenge of keeping operating costs manageable and improving patient outcomes), in retail (it's crucial for stores to keep shelves supplied with the products people want most), banking, manufacturing, public transportation, cybersecurity, economic instituties and etc.\n",
    "   For example, if we want to do some data analysis, most of work be with tables of numbers; so working with data, we need to organize, clean, reshape and transform it. So it is very handy and excellent tool kit.\n",
    "   An  array is  a data structure that stores values of same data type. While python lists can contain values corresponding to different data types. For egzample: numpy.random.rand(a0, a1, …, an) : creates an array of specified shape and fills it with random values.\n",
    "  \n",
    " \n",
    "  "
   ]
  },
  {
   "cell_type": "markdown",
   "metadata": {},
   "source": [
    "## 1. What is random numbers? What is simply random data?\n",
    "   \n",
    "   Random numbers have been used for thousands of years. The meaning of random  is - to leave the end result up to random chance. Random number generators in a computer are similar — they’re an attempt to achieve an unpredictable, random result.\n",
    "   \n",
    "   Simply random data in Numpy. random package is return of a sample (or samples) from the “standard normal” distribution. Return random integers from low to high. Simple random data has lots of functions: rand, randn, randint, random_integers, random_sample, random, ranf, sample, choice and etc. Random module works great for generating some random data,or shuffle some values."
   ]
  },
  {
   "cell_type": "markdown",
   "metadata": {},
   "source": [
    " To start work with Numpy random package I have to import numpy random package. To do so: I installed Python 3.7 package through Anakonda site, so numpy random package is included into Python package, so we do not need to install it separately. \n",
    "\n",
    "Before I start investigate random sampling(numpy.random), I will write some egzamples of array creation routines.\n",
    "For egzample:\n"
   ]
  },
  {
   "cell_type": "code",
   "execution_count": 1,
   "metadata": {},
   "outputs": [
    {
     "name": "stdout",
     "output_type": "stream",
     "text": [
      "[1 2 3]\n"
     ]
    }
   ],
   "source": [
    "import numpy as np #Imported numpy\n",
    "  \n",
    "a = np.array ([1,2,3]) # a = is variable\n",
    "\n",
    "\n",
    "print(a)\n",
    "\n",
    "# So I got output as you see 1, 2, 3 "
   ]
  },
  {
   "cell_type": "code",
   "execution_count": 1,
   "metadata": {},
   "outputs": [],
   "source": [
    "import numpy as np         #Created two numpy arrays\n",
    "\n",
    "np_array_1 = np.arange(10000) # Shows timing, how long it takes to create\n",
    "np_array_2 = np.arange(10000)\n"
   ]
  },
  {
   "cell_type": "code",
   "execution_count": 9,
   "metadata": {},
   "outputs": [
    {
     "data": {
      "text/plain": [
       "array([    5,     6,     7, ..., 10002, 10003, 10004])"
      ]
     },
     "execution_count": 9,
     "metadata": {},
     "output_type": "execute_result"
    }
   ],
   "source": [
    "np_array_1+5 # Added extra 5 arrays"
   ]
  },
  {
   "cell_type": "code",
   "execution_count": 3,
   "metadata": {},
   "outputs": [
    {
     "name": "stdout",
     "output_type": "stream",
     "text": [
      "[[1 2 3]\n",
      " [4 5 6]]\n"
     ]
    }
   ],
   "source": [
    "\n",
    "import numpy as np \n",
    "    \n",
    "a = np.array([(1,2,3),(4,5,6)])  # Wroted two arrays in two rows:\n",
    "\n",
    "print(a)"
   ]
  },
  {
   "cell_type": "markdown",
   "metadata": {},
   "source": [
    "The zeros() function is used to get a new array of given shape and type, filled with zeros."
   ]
  },
  {
   "cell_type": "code",
   "execution_count": 1,
   "metadata": {},
   "outputs": [
    {
     "data": {
      "text/plain": [
       "array([0., 0., 0.])"
      ]
     },
     "execution_count": 1,
     "metadata": {},
     "output_type": "execute_result"
    }
   ],
   "source": [
    "import numpy as np\n",
    "a = np.zeros(3)  \n",
    "a\n"
   ]
  },
  {
   "cell_type": "code",
   "execution_count": 2,
   "metadata": {},
   "outputs": [
    {
     "data": {
      "text/plain": [
       "array([0., 0., 0., 0., 0., 0., 0., 0., 0.])"
      ]
     },
     "execution_count": 2,
     "metadata": {},
     "output_type": "execute_result"
    }
   ],
   "source": [
    "b = np.zeros(9)\n",
    "b\n",
    "\n"
   ]
  },
  {
   "cell_type": "code",
   "execution_count": 3,
   "metadata": {},
   "outputs": [
    {
     "data": {
      "text/plain": [
       "(9,)"
      ]
     },
     "execution_count": 3,
     "metadata": {},
     "output_type": "execute_result"
    }
   ],
   "source": [
    "b.shape # We can find out shape of the array. As at work place we would need to change a lot times the shape of the arrays.\n"
   ]
  },
  {
   "cell_type": "code",
   "execution_count": 5,
   "metadata": {},
   "outputs": [
    {
     "data": {
      "text/plain": [
       "array([[0.],\n",
       "       [0.],\n",
       "       [0.],\n",
       "       [0.],\n",
       "       [0.],\n",
       "       [0.],\n",
       "       [0.],\n",
       "       [0.],\n",
       "       [0.]])"
      ]
     },
     "execution_count": 5,
     "metadata": {},
     "output_type": "execute_result"
    }
   ],
   "source": [
    "b.shape =(9, 1)\n",
    "b"
   ]
  },
  {
   "cell_type": "code",
   "execution_count": 12,
   "metadata": {},
   "outputs": [
    {
     "data": {
      "text/plain": [
       "array([1., 1., 1., 1., 1., 1., 1., 1., 1., 1.])"
      ]
     },
     "execution_count": 12,
     "metadata": {},
     "output_type": "execute_result"
    }
   ],
   "source": [
    "z = np.ones(10)  # Created different size of the arrays. I made array with populated of ones.\n",
    "z"
   ]
  },
  {
   "cell_type": "code",
   "execution_count": 13,
   "metadata": {},
   "outputs": [
    {
     "data": {
      "text/plain": [
       "array([[1.],\n",
       "       [1.],\n",
       "       [1.],\n",
       "       [1.],\n",
       "       [1.],\n",
       "       [1.],\n",
       "       [1.],\n",
       "       [1.],\n",
       "       [1.],\n",
       "       [1.]])"
      ]
     },
     "execution_count": 13,
     "metadata": {},
     "output_type": "execute_result"
    }
   ],
   "source": [
    "z.shape = (10, 1) # We can make changes in the shape. As i wroted shape from 10 to 1.\n",
    "z"
   ]
  },
  {
   "cell_type": "code",
   "execution_count": 14,
   "metadata": {},
   "outputs": [
    {
     "data": {
      "text/plain": [
       "numpy.float64"
      ]
     },
     "execution_count": 14,
     "metadata": {},
     "output_type": "execute_result"
    }
   ],
   "source": [
    "z = np.ones (10)  # I checked float of the array, by typing in program type (z[0])\n",
    "type(z[0])"
   ]
  },
  {
   "cell_type": "code",
   "execution_count": 9,
   "metadata": {
    "scrolled": true
   },
   "outputs": [
    {
     "data": {
      "text/plain": [
       "array([7.56600486e-307, 1.69118787e-306])"
      ]
     },
     "execution_count": 9,
     "metadata": {},
     "output_type": "execute_result"
    }
   ],
   "source": [
    "z = np.empty(2)  # Empty will create an empty space in mine array.\n",
    "z\n"
   ]
  },
  {
   "cell_type": "code",
   "execution_count": 10,
   "metadata": {},
   "outputs": [
    {
     "data": {
      "text/plain": [
       "array([1., 3., 5.])"
      ]
     },
     "execution_count": 10,
     "metadata": {},
     "output_type": "execute_result"
    }
   ],
   "source": [
    "z = np.linspace(1, 5, 3) #Created a range whitch starting from 1 to 5 with 3 elements.  It is very handy then I will be creating plots.\n",
    "z"
   ]
  },
  {
   "cell_type": "code",
   "execution_count": 16,
   "metadata": {},
   "outputs": [
    {
     "data": {
      "text/plain": [
       "array([10, 30])"
      ]
     },
     "execution_count": 16,
     "metadata": {},
     "output_type": "execute_result"
    }
   ],
   "source": [
    "z = np.array ([10, 30]) # To create a array in numpy, we need to add the list for eg. from 10 to 30 in the brackets.\n",
    "z"
   ]
  },
  {
   "cell_type": "code",
   "execution_count": 20,
   "metadata": {},
   "outputs": [
    {
     "data": {
      "text/plain": [
       "array([[ 1,  2,  3,  4,  5,  6,  7,  8,  9, 10]])"
      ]
     },
     "execution_count": 20,
     "metadata": {},
     "output_type": "execute_result"
    }
   ],
   "source": [
    "b_list = [1,2,3,4,5,6,7,8,9,10] # Listed b values\n",
    "y = np.array([b_list])\n",
    "y"
   ]
  },
  {
   "cell_type": "code",
   "execution_count": 21,
   "metadata": {},
   "outputs": [
    {
     "data": {
      "text/plain": [
       "numpy.ndarray"
      ]
     },
     "execution_count": 21,
     "metadata": {},
     "output_type": "execute_result"
    }
   ],
   "source": [
    "type (y)"
   ]
  },
  {
   "cell_type": "code",
   "execution_count": 22,
   "metadata": {},
   "outputs": [
    {
     "data": {
      "text/plain": [
       "array([[[1, 2, 3, 4, 5, 6],\n",
       "        [6, 5, 4, 3, 2, 1]]])"
      ]
     },
     "execution_count": 22,
     "metadata": {},
     "output_type": "execute_result"
    }
   ],
   "source": [
    "a_list = [[1,2,3,4,5,6],[6,5,4,3,2,1]] # Created two array lists.\n",
    "x = np.array([a_list])\n",
    "x"
   ]
  },
  {
   "cell_type": "code",
   "execution_count": 6,
   "metadata": {},
   "outputs": [
    {
     "data": {
      "image/png": "[encoded data removed]",
      "text/plain": [
       "<Figure size 432x288 with 1 Axes>"
      ]
     },
     "metadata": {
      "needs_background": "light"
     },
     "output_type": "display_data"
    }
   ],
   "source": [
    "import matplotlib.pyplot as plt # Created plot.\n",
    "a=[1,2,3,4,10]\n",
    "b=[2,3,4,5]\n",
    "plt.plot(a)\n",
    "plt.plot(b)\n",
    "plt.ylabel(\"y axis\") # Labeled y axis\n",
    "plt.xlabel(\"x axis\") # Labeled x axis\n",
    "plt.show()"
   ]
  },
  {
   "cell_type": "markdown",
   "metadata": {},
   "source": [
    "I\"ll investigate just few simple random data functions:\n",
    "Egzamples:\n",
    "Numpy. random.rand ()d0, d1, ..dn). This function creates an array of the given shape and populate it with random samples from a uniform distribution over [0, 1).\n",
    "\n",
    "Random method to get a random value between 0 and 1.\n"
   ]
  },
  {
   "cell_type": "code",
   "execution_count": 3,
   "metadata": {},
   "outputs": [
    {
     "data": {
      "text/plain": [
       "array([[-0.39283316, -0.5436955 ,  0.88118373,  1.21259389,  0.81369307],\n",
       "       [-0.21129242,  0.24595495,  0.3195786 ,  0.01512438, -1.23049894],\n",
       "       [-0.517133  ,  0.553155  ,  0.63003059, -1.82427495, -0.87286547],\n",
       "       [ 0.82361448, -1.04396555,  0.41925127, -0.43261558, -0.83609897],\n",
       "       [ 0.74299142, -0.74360267, -0.46970399,  0.40827727, -0.57265075]])"
      ]
     },
     "execution_count": 3,
     "metadata": {},
     "output_type": "execute_result"
    }
   ],
   "source": [
    "import numpy as np\n",
    "import random\n",
    "np.random.randn(5,5)  # Created an array of random numbers from 0 up to <1 in five rows and five columns."
   ]
  },
  {
   "cell_type": "code",
   "execution_count": 5,
   "metadata": {},
   "outputs": [
    {
     "data": {
      "text/plain": [
       "<function matplotlib.pyplot.show(*args, **kw)>"
      ]
     },
     "execution_count": 5,
     "metadata": {},
     "output_type": "execute_result"
    },
    {
     "data": {
      "image/png": "[encoded data removed]",
      "text/plain": [
       "<Figure size 432x288 with 1 Axes>"
      ]
     },
     "metadata": {
      "needs_background": "light"
     },
     "output_type": "display_data"
    }
   ],
   "source": [
    "import numpy as np                  #Imported numpy\n",
    "x = np.random.randn(200)\n",
    "x\n",
    "import matplotlib.pyplot as plt    # Imported matplotlib.pyplot\n",
    "\n",
    "plt.hist(x)  # Created Histogram\n",
    "plt.show     # Asked show histogram in output"
   ]
  },
  {
   "cell_type": "code",
   "execution_count": 10,
   "metadata": {},
   "outputs": [
    {
     "name": "stdout",
     "output_type": "stream",
     "text": [
      "[[0.29161044 0.00672726]\n",
      " [0.77121435 0.97921019]]\n"
     ]
    }
   ],
   "source": [
    "import random\n",
    "x = np.random.random ((2,2)) \n",
    "print(x)"
   ]
  },
  {
   "cell_type": "code",
   "execution_count": 12,
   "metadata": {},
   "outputs": [
    {
     "name": "stdout",
     "output_type": "stream",
     "text": [
      "[[[ 0.7399526   0.4480177 ]\n",
      "  [ 1.5067953  -0.47763188]]\n",
      "\n",
      " [[-2.09421413 -0.71025615]\n",
      "  [-0.3629298   0.43228117]]]\n"
     ]
    }
   ],
   "source": [
    "x = np.random.randn(2,2,2)\n",
    "print(x)"
   ]
  },
  {
   "cell_type": "markdown",
   "metadata": {},
   "source": [
    "The difference between np.random.random and np.random.randn that in rand there are gaps between the rows."
   ]
  },
  {
   "cell_type": "code",
   "execution_count": 13,
   "metadata": {},
   "outputs": [
    {
     "name": "stdout",
     "output_type": "stream",
     "text": [
      "[[1 4]\n",
      " [3 1]]\n"
     ]
    }
   ],
   "source": [
    "a = np.random.randint (1,5,size=(2,2))  # Randint is stands for that we can add integer for egz. 1 to 5 in size two rows and two columns.\n",
    "print(a)"
   ]
  },
  {
   "cell_type": "code",
   "execution_count": 15,
   "metadata": {},
   "outputs": [
    {
     "data": {
      "text/plain": [
       "b'\\xb8o\\xc3\\n\\x87'"
      ]
     },
     "execution_count": 15,
     "metadata": {},
     "output_type": "execute_result"
    }
   ],
   "source": [
    "np.random.bytes(5) # This function returns random bytes"
   ]
  },
  {
   "cell_type": "markdown",
   "metadata": {},
   "source": [
    "## 2. What is and how it works permutations in numpy.random package.\n",
    "\n",
    "Randomly permute a sequence, or return a permuted range.\n",
    "   If x is a multi-dimensional array, it is only shuffled along its first index.\n",
    "   \n",
    "Permutation has two differences from shuffle:\n",
    "   1.If passed an array, it will return a shuffled copy of the array; np.random.shuffle shuffles the array in place.\n",
    "   \n",
    "   2.If passed an integer, it will return a shuffled range i.e. np.random.shuffle(np.arange(n))\n",
    "\n",
    "\n"
   ]
  },
  {
   "cell_type": "code",
   "execution_count": 18,
   "metadata": {},
   "outputs": [
    {
     "name": "stdout",
     "output_type": "stream",
     "text": [
      "(3, 4, 5)\n",
      "(3, 5, 4)\n",
      "(4, 3, 5)\n",
      "(4, 5, 3)\n",
      "(5, 3, 4)\n",
      "(5, 4, 3)\n"
     ]
    }
   ],
   "source": [
    "\n",
    "from itertools import permutations  # Imported a Python module for permutations\n",
    "  \n",
    "k = permutations([3, 4, 5])         \n",
    "  \n",
    "\n",
    "for i in list(k): \n",
    "    \n",
    "    print(i)"
   ]
  },
  {
   "cell_type": "code",
   "execution_count": 21,
   "metadata": {},
   "outputs": [
    {
     "name": "stdout",
     "output_type": "stream",
     "text": [
      "New shuffled name order :  ['Renata', 'Redas', 'Rita', 'Mant']\n"
     ]
    }
   ],
   "source": [
    "from random import shuffle # Imported module shuffle\n",
    "\n",
    "names = [\"Rita\", \"Renata\", \"Redas\", \"Mant\"] # Created shuffle function with strings\n",
    "\n",
    "shuffle(names)         # Shuffled strings\n",
    "\n",
    "print (\"New shuffled name order : \", names)  \n",
    "# Printed shuffled strings"
   ]
  },
  {
   "cell_type": "code",
   "execution_count": 4,
   "metadata": {},
   "outputs": [
    {
     "data": {
      "text/plain": [
       "array([0, 4, 2, 1, 3])"
      ]
     },
     "execution_count": 4,
     "metadata": {},
     "output_type": "execute_result"
    }
   ],
   "source": [
    "import numpy as np\n",
    "arr = np.arange(5)\n",
    "np.random.shuffle(arr) # Returned a permuted range.\n",
    "arr"
   ]
  },
  {
   "cell_type": "code",
   "execution_count": 26,
   "metadata": {},
   "outputs": [
    {
     "data": {
      "text/plain": [
       "array([2, 6, 4, 3, 1, 5, 0, 7])"
      ]
     },
     "execution_count": 26,
     "metadata": {},
     "output_type": "execute_result"
    }
   ],
   "source": [
    "R = np. arange (8)\n",
    "np.random.shuffle (R)\n",
    "R"
   ]
  },
  {
   "cell_type": "markdown",
   "metadata": {},
   "source": [
    "## 3. What does mean the distributions in that package?\n",
    "\n",
    "Numpy. random provides functionality to generate values of various distributions: binomial, beta, Pareto, Poisson, gamma, uniform and  etc."
   ]
  },
  {
   "cell_type": "markdown",
   "metadata": {},
   "source": [
    " - Distribution common data types:  discrete or continuous: discrete probability function can assume a discrete number of values and continuous data can take any value within a given range. The range may be finite or infinite. Continuous variables are often measurements on a scale: weight, temperature. Probabilities for continuous distributions are measured over ranges of values rather than single points."
   ]
  },
  {
   "cell_type": "markdown",
   "metadata": {},
   "source": [
    " - Distributions are described in terms of their density functions: 1. probability and cumulative density functions.\n",
    "   -Probability Density function: calculates the probability of observing a given value.\n",
    "   -Cumulative Density function: calculates the probability of an observation equal or less than a value."
   ]
  },
  {
   "cell_type": "markdown",
   "metadata": {},
   "source": [
    "Ther are some distribution functions, so I will try to investigate few of them:\n",
    "\n",
    "Poisson distribution shows number of times an event occurs in fixed time interval. It is a binomial approximated distribution which occurs, when number of trials (n) becomes large,or probability of success (p)becomes- small.\n"
   ]
  },
  {
   "cell_type": "code",
   "execution_count": 24,
   "metadata": {},
   "outputs": [
    {
     "data": {
      "image/png": "[encoded data removed]",
      "text/plain": [
       "<Figure size 432x288 with 1 Axes>"
      ]
     },
     "metadata": {
      "needs_background": "light"
     },
     "output_type": "display_data"
    }
   ],
   "source": [
    "\n",
    "s = np.random.poisson(2, 2000) # Writed samples from Poisson\n",
    "\n",
    "count, bins, ignored = plt.hist(s, 10, density=True, facecolor='yellow', alpha=0.1)\n",
    "plt.title('Poisson Distribution')  # Titled plot\n",
    "plt.ylabel(\"Frequency\") # Labeled the y axis\n",
    "plt.xlabel(\"x axis\")#Labeled x axis\n",
    "plt.show()   # Showed plot"
   ]
  },
  {
   "cell_type": "markdown",
   "metadata": {},
   "source": [
    " Gamma distribution:\n",
    " \n",
    "-  Draw samples from a Gamma distribution. Samples are drawn from a Gamma distribution with specified parameters, shape and scale, where both parameters are > 0."
   ]
  },
  {
   "cell_type": "code",
   "execution_count": 23,
   "metadata": {},
   "outputs": [
    {
     "data": {
      "image/png": "[encoded data removed]",
      "text/plain": [
       "<Figure size 432x288 with 1 Axes>"
      ]
     },
     "metadata": {
      "needs_background": "light"
     },
     "output_type": "display_data"
    }
   ],
   "source": [
    "shape, scale = 1, 4.\n",
    "s = np.random.gamma(shape, scale, 2000)\n",
    "\n",
    "count, bins, ignored = plt.hist(s, density=True, facecolor='red')\n",
    "plt.title('Gamma Distribution') # Labeled plot with a title\n",
    "plt.ylabel(\"Frequency\") # Labeled y axis\n",
    "plt.xlabel(\"x axis\")#Labeled x axis\n",
    "plt.show() # Showed plot"
   ]
  },
  {
   "cell_type": "markdown",
   "metadata": {},
   "source": [
    "Uniform -continous distribution - probability associated with each data points within a fixed interval and they are equal."
   ]
  },
  {
   "cell_type": "code",
   "execution_count": 29,
   "metadata": {},
   "outputs": [
    {
     "data": {
      "image/png": "[encoded data removed]",
      "text/plain": [
       "<Figure size 432x288 with 1 Axes>"
      ]
     },
     "metadata": {
      "needs_background": "light"
     },
     "output_type": "display_data"
    }
   ],
   "source": [
    "\n",
    "a = np.random.uniform(3, 5, 1000) # Wroted parameters low and high of the values 3 and 5\n",
    "count, bins, ignored = plt.hist(a, 10, density=True, facecolor='green', alpha=0.50)\n",
    "plt.title('Uniform - Continuous Distribution')\n",
    "plt.ylabel(\"Frequency\") # Labeled y axis\n",
    "plt.xlabel(\"x axis\") # Labeled x axis\n",
    "plt.show() # Displayed plot"
   ]
  },
  {
   "cell_type": "markdown",
   "metadata": {},
   "source": [
    "## 4. How to generate random numbers from Numpy random package.\n",
    "\n",
    "\n",
    "I\"ll generate some random numbers from a binomial distribution.\n"
   ]
  },
  {
   "cell_type": "code",
   "execution_count": 29,
   "metadata": {},
   "outputs": [],
   "source": [
    "import random"
   ]
  },
  {
   "cell_type": "code",
   "execution_count": 34,
   "metadata": {},
   "outputs": [
    {
     "data": {
      "text/plain": [
       "0.799131139100144"
      ]
     },
     "execution_count": 34,
     "metadata": {},
     "output_type": "execute_result"
    }
   ],
   "source": [
    "random.random() # Wroted random float, which will generate float between 1 and 0. (0.0 <= x < 1.0). Every time then I press on same cell Shift+Enter, gives each next random number"
   ]
  },
  {
   "cell_type": "markdown",
   "metadata": {},
   "source": [
    "The random() function can be used to build customized random number generators. It is the key ingredient for many\n",
    "of the functions in the random module. There are more distributions: the most widely encountered is the normal distribution also known as the bell curve. A normal distribution is completely described by just two numbers the mean and the standard deviation. \n",
    "Some egzamples:"
   ]
  },
  {
   "cell_type": "code",
   "execution_count": 5,
   "metadata": {},
   "outputs": [
    {
     "name": "stdout",
     "output_type": "stream",
     "text": [
      "3.7999286353539437\n",
      "2.8497825501783245\n",
      "3.288380999457548\n",
      "2.6522569510319642\n",
      "2.347946979603984\n"
     ]
    }
   ],
   "source": [
    "import numpy as np\n",
    "import random\n",
    "\n",
    "for i in range (5):\n",
    "    print (random.uniform(2,4))"
   ]
  },
  {
   "cell_type": "code",
   "execution_count": 38,
   "metadata": {},
   "outputs": [
    {
     "data": {
      "text/plain": [
       "15.800167771758984"
      ]
     },
     "execution_count": 38,
     "metadata": {},
     "output_type": "execute_result"
    }
   ],
   "source": [
    "random.uniform(2.0, 30.0) # Random float between whose two parameters- from 2.0 <= x <30.0. With pressing every time shift +Enter, will give random numbers."
   ]
  },
  {
   "cell_type": "markdown",
   "metadata": {},
   "source": [
    "Other egzample: I will add to code few different greetings, and every time then i will run this code will show randomply choosen greeting. "
   ]
  },
  {
   "cell_type": "code",
   "execution_count": 9,
   "metadata": {},
   "outputs": [
    {
     "name": "stdout",
     "output_type": "stream",
     "text": [
      "Good afternoon\n"
     ]
    }
   ],
   "source": [
    "import random\n",
    "\n",
    "greetings = [\"Hello\", \"Good afternoon\", \"Good evening\", \"Good night\"]\n",
    "\n",
    "value = random.choice(greetings)\n",
    "print(value)"
   ]
  },
  {
   "cell_type": "code",
   "execution_count": 8,
   "metadata": {},
   "outputs": [
    {
     "name": "stdout",
     "output_type": "stream",
     "text": [
      "-1.324468631720883\n",
      "-1.370141583833774\n",
      "-1.0832568650996748\n",
      "0.8469375953946513\n",
      "0.004420528073511174\n",
      "-0.7081334786813204\n",
      "-0.340857775022786\n",
      "0.1683394544621363\n",
      "0.9573958301724343\n",
      "1.351573608479473\n"
     ]
    }
   ],
   "source": [
    "# To generate random numbers from a normal distribution, we use normal variate function.\n",
    "import random  \n",
    "\n",
    "for i in range (10):\n",
    " print(random.normalvariate(0, 1))   "
   ]
  },
  {
   "cell_type": "code",
   "execution_count": 42,
   "metadata": {},
   "outputs": [
    {
     "data": {
      "text/plain": [
       "73"
      ]
     },
     "execution_count": 42,
     "metadata": {},
     "output_type": "execute_result"
    }
   ],
   "source": [
    "random.randint (0, 100) # Will generate random numbers between the range 0-100"
   ]
  },
  {
   "cell_type": "markdown",
   "metadata": {},
   "source": [
    "If we want to generate three random integers between 2 and 50, we need to:"
   ]
  },
  {
   "cell_type": "code",
   "execution_count": 2,
   "metadata": {},
   "outputs": [
    {
     "data": {
      "text/plain": [
       "array([29, 23, 23])"
      ]
     },
     "execution_count": 2,
     "metadata": {},
     "output_type": "execute_result"
    }
   ],
   "source": [
    "import numpy as np\n",
    "np.random.randint(low=2, high=50, size=3)"
   ]
  },
  {
   "cell_type": "markdown",
   "metadata": {},
   "source": [
    "- Very useful method for the companys is random. choice. I will try to show egzamples:\n"
   ]
  },
  {
   "cell_type": "code",
   "execution_count": 46,
   "metadata": {},
   "outputs": [
    {
     "data": {
      "text/plain": [
       "'C'"
      ]
     },
     "execution_count": 46,
     "metadata": {},
     "output_type": "execute_result"
    }
   ],
   "source": [
    "random.choice ([\"H\",\"C\"]) # This method gives just to option Herb or Coin side, because probability that coin will turn or Herb side or Coin side is 50 to 50.So everytime than I escape from this cell, will give me Or Herb or Coin output, because is just two choices."
   ]
  },
  {
   "cell_type": "code",
   "execution_count": 50,
   "metadata": {},
   "outputs": [
    {
     "name": "stdout",
     "output_type": "stream",
     "text": [
      "['C', 'H', 'H', 'C', 'H', 'H', 'C', 'C', 'C', 'H']\n"
     ]
    }
   ],
   "source": [
    "coin = [\"H\", \"C\"]      # This command gives output of random choices in a row.\n",
    "result = [random.choice(coin) for r in range(10)]\n",
    "print(result)"
   ]
  },
  {
   "cell_type": "code",
   "execution_count": 51,
   "metadata": {},
   "outputs": [
    {
     "data": {
      "text/plain": [
       "5"
      ]
     },
     "execution_count": 51,
     "metadata": {},
     "output_type": "execute_result"
    }
   ],
   "source": [
    "result.count (\"H\") # It  find out how many times Herbs turns"
   ]
  },
  {
   "cell_type": "code",
   "execution_count": 23,
   "metadata": {},
   "outputs": [
    {
     "data": {
      "text/plain": [
       "array([4, 7, 5, 0, 3])"
      ]
     },
     "execution_count": 23,
     "metadata": {},
     "output_type": "execute_result"
    }
   ],
   "source": [
    "np.random.seed(0)             \n",
    "d = np.random.randint(8, size=5) # Created random arrays using randomint method in numpy.random.\n",
    "d\n",
    "\n"
   ]
  },
  {
   "cell_type": "code",
   "execution_count": 24,
   "metadata": {},
   "outputs": [
    {
     "data": {
      "text/plain": [
       "4"
      ]
     },
     "execution_count": 24,
     "metadata": {},
     "output_type": "execute_result"
    }
   ],
   "source": [
    "d[0]    # It shows the first element of the array, whitch in my case it is 4."
   ]
  },
  {
   "cell_type": "code",
   "execution_count": 26,
   "metadata": {},
   "outputs": [
    {
     "data": {
      "text/plain": [
       "array([4, 7, 5, 0])"
      ]
     },
     "execution_count": 26,
     "metadata": {},
     "output_type": "execute_result"
    }
   ],
   "source": [
    "d[0:4]  # If I wrote the range from 0 to 4 it gives that output:"
   ]
  },
  {
   "cell_type": "code",
   "execution_count": 28,
   "metadata": {},
   "outputs": [
    {
     "data": {
      "text/plain": [
       "3"
      ]
     },
     "execution_count": 28,
     "metadata": {},
     "output_type": "execute_result"
    }
   ],
   "source": [
    "d[-1]"
   ]
  },
  {
   "cell_type": "markdown",
   "metadata": {},
   "source": [
    " Egzample 2:\n",
    " "
   ]
  },
  {
   "cell_type": "code",
   "execution_count": 11,
   "metadata": {},
   "outputs": [
    {
     "name": "stdout",
     "output_type": "stream",
     "text": [
      "0.5683910741298476\n",
      "-0.7769321469498018\n",
      "-0.6361989092083598\n",
      "-0.04550556169378423\n",
      "-1.345385635587545\n",
      "0.241103370931791\n",
      "1.0028666624715252\n",
      "-0.6175014835275009\n",
      "0.06901381067572918\n",
      "0.32572423328397065\n"
     ]
    }
   ],
   "source": [
    "import random\n",
    "\n",
    "for i in range (10):\n",
    "     print (random.normalvariate(0, 1))"
   ]
  },
  {
   "cell_type": "code",
   "execution_count": 17,
   "metadata": {},
   "outputs": [
    {
     "name": "stdout",
     "output_type": "stream",
     "text": [
      "['Green', 'Green', 'Blue', 'Blue', 'Blue', 'Green', 'Red', 'Green']\n"
     ]
    }
   ],
   "source": [
    "import random   # Created random values- colors. So k is random value of 8 times.\n",
    "colors = [\"Green\", \"Red\", \"Blue\"]\n",
    "rezults = random.choices(colors, k=8)\n",
    "print(rezults)   # So we can see in output just randomly chosen colors.\n"
   ]
  },
  {
   "cell_type": "markdown",
   "metadata": {},
   "source": [
    "Egzample with histogram. Let say we have 500 studentsof witch have weight normally distributed with the meaning of 58 of sd 10. "
   ]
  },
  {
   "cell_type": "code",
   "execution_count": 24,
   "metadata": {},
   "outputs": [
    {
     "data": {
      "image/png": "[encoded data removed]",
      "text/plain": [
       "<Figure size 432x288 with 1 Axes>"
      ]
     },
     "metadata": {
      "needs_background": "light"
     },
     "output_type": "display_data"
    }
   ],
   "source": [
    "import numpy as np  # For creating Histogram I imported numpy and matplotlib\n",
    "import matplotlib.pyplot as plt\n",
    "np.random.seed (1000)  # Created seed to generate data again and again\n",
    "\n",
    "# Wroted parameters for sample data below:\n",
    "mean = 58\n",
    "sd = 10\n",
    "n = 500\n",
    "heights = np.random.normal(mean, sd, n)\n",
    "# To draw Histogram\n",
    "hist, bin_edges = np.histogram(heights, bins=40)\n",
    "plt.figure()\n",
    "plt.plot(bin_edges[:-1], hist, color=\"red\", label= \"Weight histogram\")\n",
    "plt.xlabel(\"Weight\")\n",
    "plt.ylabel(\"Frequency\")\n",
    "plt.grid()\n",
    "plt.legend()\n",
    "plt.title(\"Histogram of Weight of students\")\n",
    "plt.show ()\n"
   ]
  },
  {
   "cell_type": "markdown",
   "metadata": {},
   "source": [
    "#  Conclusion\n",
    "\n",
    "NumPy library package in Python is one of the most popular libraries for numerical computing. If someone want a career in data science- the NumPy library is one of the tools that must to learn to become a successful and productive member of this field.\n",
    "Simple random sample advantages include ease of use and accuracy of representation. \n",
    "The probability distributions are a common way to describe and predict. The probability is zero for an impossible event and one for an event which is certain to occur. It's an important concept for making forecasts and risk assessments.\n",
    "These events could be: a number of patients in hospital with certain illness, so could predict how roofly hospital need to order priticarly medication; for produsing goods, we can predict how much we need to produce goods to sell them; by dataset in population, we can predict how much likely coming year will come students into primary schools and lots of more egzamples.\n",
    "Numpy random package has arithmetic operations with NumPy arrays- whitch is so great tool for Mathematicians, for Scientist proffesionals. Imagine they can by wroting few codes have matrix, vector, Algebra linear functions.\n"
   ]
  }
 ],
 "metadata": {
  "kernelspec": {
   "display_name": "Python 3",
   "language": "python",
   "name": "python3"
  },
  "language_info": {
   "codemirror_mode": {
    "name": "ipython",
    "version": 3
   },
   "file_extension": ".py",
   "mimetype": "text/x-python",
   "name": "python",
   "nbconvert_exporter": "python",
   "pygments_lexer": "ipython3",
   "version": "3.7.3"
  }
 },
 "nbformat": 4,
 "nbformat_minor": 2
}
