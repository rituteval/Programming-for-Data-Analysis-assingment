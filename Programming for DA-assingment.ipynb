{
 "cells": [
  {
   "cell_type": "code",
   "execution_count": null,
   "metadata": {},
   "outputs": [],
   "source": [
    "# Programming for data analysis- assingment#"
   ]
  },
  {
   "cell_type": "markdown",
   "metadata": {},
   "source": [
    "# Numpy. random package\n",
    "\n",
    "# Content:\n",
    "\n",
    "- Explanation of the overall purpose of the numpy.random package.\n",
    "- 1. Expalnation and analyzis of numpy.random package four contents: simply random data,\n",
    "- 2. What is and how it works permutations in numpy.random package.\n",
    "- 3. What does mean the distribution in that package.\n",
    "- 4. How to generate random numbers with nupy.range package.\n",
    "\n",
    "\n"
   ]
  },
  {
   "cell_type": "markdown",
   "metadata": {},
   "source": [
    "- Overview\n",
    "  Python and Numpy provide us with powerful functionalities to calculate problems from statistics and generate probability theory, and of course to manipulate big data set.\n",
    "   It provides a high- performance multidimencional array object, tools for working with these arrays.Because NumPy functions operate on numbers, they are especially useful for data science, statistics, and machine learning.\n",
    "   NumPy has become particularly important for “machine learning” and “deep learning,” since these often involve large datasets of numeric data. When we’re doing machine learning and deep learning, numeric data manipulation is a very big part of the workflow.\n",
    "   For example, if you want to do some data analysis, we’ll often be working with tables of numbers; so working with data, we need to organize, clean, reshape and transform it. so it is very handy and excellent tool kit.\n",
    "  NumPy. random package is an open-source   add-on   modules   to   Python   that   provide common mathematical  and  numerical  routines in pre-compiled functions.   \n",
    "  The  Numpy.random package  provides  basic  routines  for  analyzing large  arrays  and  matrices  of  numeric  data. \n",
    "   An  array is  a data structure that stores values of same data type. While python lists can contain values corresponding to different data types. For egzample: numpy.random.rand(a0, a1, …, an) : creates an array of specified shape and fills it with random values.\n",
    "  \n",
    " \n",
    "  "
   ]
  },
  {
   "cell_type": "markdown",
   "metadata": {},
   "source": [
    "- 1. What is random numbers, and simply random data?\n",
    "   \n",
    "   Random numbers have been used for thousands of years. The meaning of random  is - to leave the end result up to random chance. Random number generators in a computer are similar — they’re an attempt to achieve an unpredictable, random result.\n",
    "   \n",
    "   Simply random data in Numpy.random package is return of a sample (or samples) from the “standard normal” distribution. Return random integers from low to high. "
   ]
  },
  {
   "cell_type": "markdown",
   "metadata": {},
   "source": [
    "For example:\n",
    "- First of all we have to import numpy random package. I installed Python 3.7 package through Anakonda site, so numpy random package is included into Python package, so we do not need to install it separately. Numpy random is very common and usefull package for data analysis. I will show some examples why it is so usefull.\n",
    "\n"
   ]
  },
  {
   "cell_type": "code",
   "execution_count": 1,
   "metadata": {},
   "outputs": [
    {
     "name": "stdout",
     "output_type": "stream",
     "text": [
      "[1 2 3]\n"
     ]
    }
   ],
   "source": [
    "#Imported numpy:\n",
    "import numpy as np\n",
    "  \n",
    "a = np.array ([1,2,3])\n",
    "# a= is variable\n",
    "\n",
    "print(a)\n",
    "\n",
    "# So I got output as you see 1, 2, 3 "
   ]
  },
  {
   "cell_type": "code",
   "execution_count": 8,
   "metadata": {},
   "outputs": [],
   "source": [
    "import numpy as np         #Created two numpy arrays\n",
    "\n",
    "np_array_1 = np.arange(10000) # Shows timing, how long it takes to create\n",
    "np_array_2 = np.arange(10000)\n"
   ]
  },
  {
   "cell_type": "code",
   "execution_count": 9,
   "metadata": {},
   "outputs": [
    {
     "data": {
      "text/plain": [
       "array([    5,     6,     7, ..., 10002, 10003, 10004])"
      ]
     },
     "execution_count": 9,
     "metadata": {},
     "output_type": "execute_result"
    }
   ],
   "source": [
    "np_array_1+5 # Added more arrays"
   ]
  },
  {
   "cell_type": "code",
   "execution_count": 3,
   "metadata": {},
   "outputs": [
    {
     "name": "stdout",
     "output_type": "stream",
     "text": [
      "[[1 2 3]\n",
      " [4 5 6]]\n"
     ]
    }
   ],
   "source": [
    "\n",
    "import numpy as np # Wroted two arrays in two rows:\n",
    "    \n",
    "a = np.array([(1,2,3),(4,5,6)])  \n",
    "\n",
    "print(a)"
   ]
  },
  {
   "cell_type": "code",
   "execution_count": 1,
   "metadata": {},
   "outputs": [
    {
     "data": {
      "text/plain": [
       "array([0., 0., 0.])"
      ]
     },
     "execution_count": 1,
     "metadata": {},
     "output_type": "execute_result"
    }
   ],
   "source": [
    "import numpy as np\n",
    "a = np.zeros(3)\n",
    "a\n"
   ]
  },
  {
   "cell_type": "code",
   "execution_count": 2,
   "metadata": {},
   "outputs": [
    {
     "data": {
      "text/plain": [
       "array([0., 0., 0., 0., 0., 0., 0., 0., 0.])"
      ]
     },
     "execution_count": 2,
     "metadata": {},
     "output_type": "execute_result"
    }
   ],
   "source": [
    "b = np.zeros(9)\n",
    "b\n",
    "\n"
   ]
  },
  {
   "cell_type": "code",
   "execution_count": 3,
   "metadata": {},
   "outputs": [
    {
     "data": {
      "text/plain": [
       "(9,)"
      ]
     },
     "execution_count": 3,
     "metadata": {},
     "output_type": "execute_result"
    }
   ],
   "source": [
    "b.shape # We can find out shape of the array. As at work place we would need to change a lot times the shape of the arrays.\n"
   ]
  },
  {
   "cell_type": "code",
   "execution_count": 5,
   "metadata": {},
   "outputs": [
    {
     "data": {
      "text/plain": [
       "array([[0.],\n",
       "       [0.],\n",
       "       [0.],\n",
       "       [0.],\n",
       "       [0.],\n",
       "       [0.],\n",
       "       [0.],\n",
       "       [0.],\n",
       "       [0.]])"
      ]
     },
     "execution_count": 5,
     "metadata": {},
     "output_type": "execute_result"
    }
   ],
   "source": [
    "b.shape =(9, 1)\n",
    "b"
   ]
  },
  {
   "cell_type": "code",
   "execution_count": 12,
   "metadata": {},
   "outputs": [
    {
     "data": {
      "text/plain": [
       "array([1., 1., 1., 1., 1., 1., 1., 1., 1., 1.])"
      ]
     },
     "execution_count": 12,
     "metadata": {},
     "output_type": "execute_result"
    }
   ],
   "source": [
    "z = np.ones(10)  # Created different size of the arrays. I made array with populated of ones.\n",
    "z"
   ]
  },
  {
   "cell_type": "code",
   "execution_count": 13,
   "metadata": {},
   "outputs": [
    {
     "data": {
      "text/plain": [
       "array([[1.],\n",
       "       [1.],\n",
       "       [1.],\n",
       "       [1.],\n",
       "       [1.],\n",
       "       [1.],\n",
       "       [1.],\n",
       "       [1.],\n",
       "       [1.],\n",
       "       [1.]])"
      ]
     },
     "execution_count": 13,
     "metadata": {},
     "output_type": "execute_result"
    }
   ],
   "source": [
    "z.shape = (10, 1) # We can make changes in the shape. As i wroted shape from 10 to 1.\n",
    "z"
   ]
  },
  {
   "cell_type": "code",
   "execution_count": 14,
   "metadata": {},
   "outputs": [
    {
     "data": {
      "text/plain": [
       "numpy.float64"
      ]
     },
     "execution_count": 14,
     "metadata": {},
     "output_type": "execute_result"
    }
   ],
   "source": [
    "z = np.ones (10)  # I checked float of the array, by typing in program type (z[0])\n",
    "type(z[0])"
   ]
  },
  {
   "cell_type": "code",
   "execution_count": 9,
   "metadata": {},
   "outputs": [
    {
     "data": {
      "text/plain": [
       "array([7.56600486e-307, 1.69118787e-306])"
      ]
     },
     "execution_count": 9,
     "metadata": {},
     "output_type": "execute_result"
    }
   ],
   "source": [
    "z = np.empty(2)  # Empty will create an empty space in mine array.\n",
    "z\n"
   ]
  },
  {
   "cell_type": "code",
   "execution_count": 10,
   "metadata": {},
   "outputs": [
    {
     "data": {
      "text/plain": [
       "array([1., 3., 5.])"
      ]
     },
     "execution_count": 10,
     "metadata": {},
     "output_type": "execute_result"
    }
   ],
   "source": [
    "z = np.linspace(1, 5, 3) #Created a range whitch starting from 1 to 5 with 3 elements.  It is very handy then I will be creating plots.\n",
    "z"
   ]
  },
  {
   "cell_type": "code",
   "execution_count": 16,
   "metadata": {},
   "outputs": [
    {
     "data": {
      "text/plain": [
       "array([10, 30])"
      ]
     },
     "execution_count": 16,
     "metadata": {},
     "output_type": "execute_result"
    }
   ],
   "source": [
    "z = np.array ([10, 30]) # To create a array in numpy, we need to add the list for eg. from 10 to 30 in the brackets.\n",
    "z"
   ]
  },
  {
   "cell_type": "code",
   "execution_count": 20,
   "metadata": {},
   "outputs": [
    {
     "data": {
      "text/plain": [
       "array([[ 1,  2,  3,  4,  5,  6,  7,  8,  9, 10]])"
      ]
     },
     "execution_count": 20,
     "metadata": {},
     "output_type": "execute_result"
    }
   ],
   "source": [
    "b_list = [1,2,3,4,5,6,7,8,9,10]\n",
    "y = np.array([b_list])\n",
    "y"
   ]
  },
  {
   "cell_type": "code",
   "execution_count": 21,
   "metadata": {},
   "outputs": [
    {
     "data": {
      "text/plain": [
       "numpy.ndarray"
      ]
     },
     "execution_count": 21,
     "metadata": {},
     "output_type": "execute_result"
    }
   ],
   "source": [
    "type (y)"
   ]
  },
  {
   "cell_type": "code",
   "execution_count": 22,
   "metadata": {},
   "outputs": [
    {
     "data": {
      "text/plain": [
       "array([[[1, 2, 3, 4, 5, 6],\n",
       "        [6, 5, 4, 3, 2, 1]]])"
      ]
     },
     "execution_count": 22,
     "metadata": {},
     "output_type": "execute_result"
    }
   ],
   "source": [
    "a_list = [[1,2,3,4,5,6],[6,5,4,3,2,1]] # Created two array lists.\n",
    "x = np.array([a_list])\n",
    "x"
   ]
  },
  {
   "cell_type": "code",
   "execution_count": 28,
   "metadata": {},
   "outputs": [
    {
     "data": {
      "image/png": "[encoded data removed]",
      "text/plain": [
       "<Figure size 432x288 with 1 Axes>"
      ]
     },
     "metadata": {
      "needs_background": "light"
     },
     "output_type": "display_data"
    }
   ],
   "source": [
    "import matplotlib.pyplot as plt # Created plot.\n",
    "a=[1,2,3,4,10]\n",
    "b=[2,3,4,5]\n",
    "plt.plot(a)\n",
    "plt.plot(b)\n",
    "plt.ylabel(\"y axis\")\n",
    "plt.xlabel(\"x axis\")\n",
    "plt.show()"
   ]
  },
  {
   "cell_type": "markdown",
   "metadata": {},
   "source": [
    "- 2. What is permutations in numpy random package means?\n",
    "   Randomly permute a sequence, or return a permuted range.\n",
    "   If x is a multi-dimensional array, it is only shuffled along its first index.\n"
   ]
  },
  {
   "cell_type": "code",
   "execution_count": 54,
   "metadata": {},
   "outputs": [
    {
     "data": {
      "text/plain": [
       "array([4, 2, 3, 1, 0])"
      ]
     },
     "execution_count": 54,
     "metadata": {},
     "output_type": "execute_result"
    }
   ],
   "source": [
    "np.random.permutation(5)"
   ]
  },
  {
   "cell_type": "markdown",
   "metadata": {},
   "source": [
    "- 3. What does mean the distribution in that package?\n",
    "  Simple random data Return a sample (or samples) from the “standard normal” distribution."
   ]
  },
  {
   "cell_type": "code",
   "execution_count": 56,
   "metadata": {},
   "outputs": [
    {
     "data": {
      "text/plain": [
       "array([6, 1, 4, 2, 7, 5, 3, 0])"
      ]
     },
     "execution_count": 56,
     "metadata": {},
     "output_type": "execute_result"
    }
   ],
   "source": [
    "R = np. arange (8)\n",
    "np.random.shuffle (R)\n",
    "R"
   ]
  },
  {
   "cell_type": "markdown",
   "metadata": {},
   "source": [
    "-  4. How to generate random numbers from Numpy,random package. I will write some egzamples.\n",
    "\n",
    "    First of all I need to import random in Jupyter notebook. To do that I will type a program below:"
   ]
  },
  {
   "cell_type": "code",
   "execution_count": 29,
   "metadata": {},
   "outputs": [],
   "source": [
    "import random"
   ]
  },
  {
   "cell_type": "code",
   "execution_count": 34,
   "metadata": {},
   "outputs": [
    {
     "data": {
      "text/plain": [
       "0.799131139100144"
      ]
     },
     "execution_count": 34,
     "metadata": {},
     "output_type": "execute_result"
    }
   ],
   "source": [
    "random.random() # Wroted random float, which will generate float between 1 and 0. (0.0 <= x < 1.0). Every time then I press on same cell Shift+Enter, gives each next random number"
   ]
  },
  {
   "cell_type": "code",
   "execution_count": 38,
   "metadata": {},
   "outputs": [
    {
     "data": {
      "text/plain": [
       "15.800167771758984"
      ]
     },
     "execution_count": 38,
     "metadata": {},
     "output_type": "execute_result"
    }
   ],
   "source": [
    "random.uniform(2.0, 30.0) # Random float between whose two parameters- from 2.0 <= x <30.0. With pressing every time shift +Enter, will give random numbers."
   ]
  },
  {
   "cell_type": "code",
   "execution_count": 42,
   "metadata": {},
   "outputs": [
    {
     "data": {
      "text/plain": [
       "73"
      ]
     },
     "execution_count": 42,
     "metadata": {},
     "output_type": "execute_result"
    }
   ],
   "source": [
    "random.randint (0, 100) # Will generate random numbers between the range 0-100"
   ]
  },
  {
   "cell_type": "markdown",
   "metadata": {},
   "source": [
    "- Very useful method for the companys is random. choice. I will try to show egzamples:\n"
   ]
  },
  {
   "cell_type": "code",
   "execution_count": 46,
   "metadata": {},
   "outputs": [
    {
     "data": {
      "text/plain": [
       "'C'"
      ]
     },
     "execution_count": 46,
     "metadata": {},
     "output_type": "execute_result"
    }
   ],
   "source": [
    "random.choice ([\"H\",\"C\"]) # This method gives just to option Herb or Coin side, because probability that coin will turn or Herb side or Coin side is 50 to 50.So everytime than I escape from this cell, will give me Or Herb or Coin output, because is just two choices."
   ]
  },
  {
   "cell_type": "code",
   "execution_count": 50,
   "metadata": {},
   "outputs": [
    {
     "name": "stdout",
     "output_type": "stream",
     "text": [
      "['C', 'H', 'H', 'C', 'H', 'H', 'C', 'C', 'C', 'H']\n"
     ]
    }
   ],
   "source": [
    "coin = [\"H\", \"C\"]      # This command gives output of random choices in a row.\n",
    "result = [random.choice(coin) for r in range(10)]\n",
    "print(result)"
   ]
  },
  {
   "cell_type": "code",
   "execution_count": 51,
   "metadata": {},
   "outputs": [
    {
     "data": {
      "text/plain": [
       "5"
      ]
     },
     "execution_count": 51,
     "metadata": {},
     "output_type": "execute_result"
    }
   ],
   "source": [
    "result.count (\"H\") # It  find out how many times Herbs turns"
   ]
  },
  {
   "cell_type": "code",
   "execution_count": 23,
   "metadata": {},
   "outputs": [
    {
     "data": {
      "text/plain": [
       "array([4, 7, 5, 0, 3])"
      ]
     },
     "execution_count": 23,
     "metadata": {},
     "output_type": "execute_result"
    }
   ],
   "source": [
    "np.random.seed(0)             \n",
    "d = np.random.randint(8, size=5) # Created random arrays using randomint method in numpy.random.\n",
    "d\n",
    "\n"
   ]
  },
  {
   "cell_type": "code",
   "execution_count": 24,
   "metadata": {},
   "outputs": [
    {
     "data": {
      "text/plain": [
       "4"
      ]
     },
     "execution_count": 24,
     "metadata": {},
     "output_type": "execute_result"
    }
   ],
   "source": [
    "d[0]    # It shows the first element of the array, whitch in my case it is 4."
   ]
  },
  {
   "cell_type": "code",
   "execution_count": 26,
   "metadata": {},
   "outputs": [
    {
     "data": {
      "text/plain": [
       "array([4, 7, 5, 0])"
      ]
     },
     "execution_count": 26,
     "metadata": {},
     "output_type": "execute_result"
    }
   ],
   "source": [
    "d[0:4]  # If I wrote the range from 0 to 4 it gives that output:"
   ]
  },
  {
   "cell_type": "code",
   "execution_count": 28,
   "metadata": {},
   "outputs": [
    {
     "data": {
      "text/plain": [
       "3"
      ]
     },
     "execution_count": 28,
     "metadata": {},
     "output_type": "execute_result"
    }
   ],
   "source": [
    "d[-1]"
   ]
  },
  {
   "cell_type": "markdown",
   "metadata": {},
   "source": [
    " Egzample 2:\n",
    " "
   ]
  },
  {
   "cell_type": "code",
   "execution_count": 11,
   "metadata": {},
   "outputs": [
    {
     "name": "stdout",
     "output_type": "stream",
     "text": [
      "0.5683910741298476\n",
      "-0.7769321469498018\n",
      "-0.6361989092083598\n",
      "-0.04550556169378423\n",
      "-1.345385635587545\n",
      "0.241103370931791\n",
      "1.0028666624715252\n",
      "-0.6175014835275009\n",
      "0.06901381067572918\n",
      "0.32572423328397065\n"
     ]
    }
   ],
   "source": [
    "import random\n",
    "\n",
    "for i in range (10):\n",
    "     print (random.normalvariate(0, 1))"
   ]
  },
  {
   "cell_type": "code",
   "execution_count": 18,
   "metadata": {},
   "outputs": [
    {
     "name": "stdout",
     "output_type": "stream",
     "text": [
      "['Red', 'Blue', 'Red', 'Blue', 'Green', 'Blue', 'Blue', 'Green']\n"
     ]
    }
   ],
   "source": [
    "import random   # Created random values- colors. So k is random value of 8 times.\n",
    "colors = [\"Green\", \"Red\", \"Blue\"]\n",
    "rezults = random.choices(colors, k=8)\n",
    "print(rezults)   # So we can see in output just randomly chosen numbers.\n"
   ]
  },
  {
   "cell_type": "markdown",
   "metadata": {},
   "source": [
    "Egzample with histogram. Let say we have 500 studentsof witch have weight normally distributed with the meaning of 58 of sd 10. "
   ]
  },
  {
   "cell_type": "code",
   "execution_count": 24,
   "metadata": {},
   "outputs": [
    {
     "data": {
      "image/png": "[encoded data removed]",
      "text/plain": [
       "<Figure size 432x288 with 1 Axes>"
      ]
     },
     "metadata": {
      "needs_background": "light"
     },
     "output_type": "display_data"
    }
   ],
   "source": [
    "import numpy as np  # For creating Histogram I imported numpy and matplotlib\n",
    "import matplotlib.pyplot as plt\n",
    "np.random.seed (1000)  # Created seed to generate data again and again\n",
    "\n",
    "# Wroted parameters for sample data below:\n",
    "mean = 58\n",
    "sd = 10\n",
    "n = 500\n",
    "heights = np.random.normal(mean, sd, n)\n",
    "# To draw Histogram\n",
    "hist, bin_edges = np.histogram(heights, bins=40)\n",
    "plt.figure()\n",
    "plt.plot(bin_edges[:-1], hist, color=\"red\", label= \"Weight histogram\")\n",
    "plt.xlabel(\"Weight\")\n",
    "plt.ylabel(\"Frequency\")\n",
    "plt.grid()\n",
    "plt.legend()\n",
    "plt.title(\"Histogram of Weight of students\")\n",
    "plt.show ()\n"
   ]
  },
  {
   "cell_type": "code",
   "execution_count": null,
   "metadata": {},
   "outputs": [],
   "source": []
  }
 ],
 "metadata": {
  "kernelspec": {
   "display_name": "Python 3",
   "language": "python",
   "name": "python3"
  },
  "language_info": {
   "codemirror_mode": {
    "name": "ipython",
    "version": 3
   },
   "file_extension": ".py",
   "mimetype": "text/x-python",
   "name": "python",
   "nbconvert_exporter": "python",
   "pygments_lexer": "ipython3",
   "version": "3.7.3"
  }
 },
 "nbformat": 4,
 "nbformat_minor": 2
}
